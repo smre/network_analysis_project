{
 "cells": [
  {
   "cell_type": "code",
   "execution_count": 1,
   "metadata": {},
   "outputs": [],
   "source": [
    "import networkx as nx\n",
    "import pandas as pd\n",
    "import numpy as np\n",
    "import matplotlib.pyplot as plt\n",
    "import copy"
   ]
  },
  {
   "cell_type": "code",
   "execution_count": 2,
   "metadata": {},
   "outputs": [
    {
     "data": {
      "text/html": [
       "<div>\n",
       "<style scoped>\n",
       "    .dataframe tbody tr th:only-of-type {\n",
       "        vertical-align: middle;\n",
       "    }\n",
       "\n",
       "    .dataframe tbody tr th {\n",
       "        vertical-align: top;\n",
       "    }\n",
       "\n",
       "    .dataframe thead th {\n",
       "        text-align: right;\n",
       "    }\n",
       "</style>\n",
       "<table border=\"1\" class=\"dataframe\">\n",
       "  <thead>\n",
       "    <tr style=\"text-align: right;\">\n",
       "      <th></th>\n",
       "      <th>GexfID</th>\n",
       "      <th>Title</th>\n",
       "      <th>IMDB_id</th>\n",
       "      <th>ReleaseDate</th>\n",
       "      <th>Slug</th>\n",
       "      <th>WeightedDegree</th>\n",
       "      <th>Modularity</th>\n",
       "      <th>PathLength</th>\n",
       "      <th>Diameter</th>\n",
       "      <th>ClusteringCoefficient</th>\n",
       "      <th>ConnectedComponents</th>\n",
       "      <th>Density</th>\n",
       "      <th>Edges</th>\n",
       "      <th>Characters</th>\n",
       "    </tr>\n",
       "  </thead>\n",
       "  <tbody>\n",
       "    <tr>\n",
       "      <th>0</th>\n",
       "      <td>1</td>\n",
       "      <td>10 Things I Hate About You</td>\n",
       "      <td>147800</td>\n",
       "      <td>1999</td>\n",
       "      <td>10-Things-I-Hate-About-You</td>\n",
       "      <td>13,040</td>\n",
       "      <td>0,194</td>\n",
       "      <td>1,779</td>\n",
       "      <td>3,000</td>\n",
       "      <td>0,567</td>\n",
       "      <td>3,000</td>\n",
       "      <td>0,233</td>\n",
       "      <td>225</td>\n",
       "      <td>25</td>\n",
       "    </tr>\n",
       "    <tr>\n",
       "      <th>1</th>\n",
       "      <td>2</td>\n",
       "      <td>12</td>\n",
       "      <td>488478</td>\n",
       "      <td>2007</td>\n",
       "      <td>12</td>\n",
       "      <td>4,227</td>\n",
       "      <td>0,517</td>\n",
       "      <td>2,170</td>\n",
       "      <td>3,000</td>\n",
       "      <td>0,610</td>\n",
       "      <td>6,000</td>\n",
       "      <td>0,077</td>\n",
       "      <td>102</td>\n",
       "      <td>42</td>\n",
       "    </tr>\n",
       "    <tr>\n",
       "      <th>2</th>\n",
       "      <td>3</td>\n",
       "      <td>Twelve and Holding</td>\n",
       "      <td>417385</td>\n",
       "      <td>2005</td>\n",
       "      <td>Twelve-and-Holding</td>\n",
       "      <td>7,333</td>\n",
       "      <td>0,473</td>\n",
       "      <td>2,449</td>\n",
       "      <td>4,000</td>\n",
       "      <td>0,593</td>\n",
       "      <td>2,000</td>\n",
       "      <td>0,140</td>\n",
       "      <td>139</td>\n",
       "      <td>26</td>\n",
       "    </tr>\n",
       "    <tr>\n",
       "      <th>3</th>\n",
       "      <td>5</td>\n",
       "      <td>127 Hours</td>\n",
       "      <td>1542344</td>\n",
       "      <td>2010</td>\n",
       "      <td>127-Hours</td>\n",
       "      <td>3,833</td>\n",
       "      <td>0,160</td>\n",
       "      <td>1,722</td>\n",
       "      <td>2,000</td>\n",
       "      <td>0,339</td>\n",
       "      <td>4,000</td>\n",
       "      <td>0,152</td>\n",
       "      <td>33</td>\n",
       "      <td>11</td>\n",
       "    </tr>\n",
       "    <tr>\n",
       "      <th>4</th>\n",
       "      <td>6</td>\n",
       "      <td>1492: Conquest of Paradise</td>\n",
       "      <td>103594</td>\n",
       "      <td>1992</td>\n",
       "      <td>1492:-Conquest-of-Paradise</td>\n",
       "      <td>7,941</td>\n",
       "      <td>0,350</td>\n",
       "      <td>2,043</td>\n",
       "      <td>4,000</td>\n",
       "      <td>0,705</td>\n",
       "      <td>1,000</td>\n",
       "      <td>0,153</td>\n",
       "      <td>164</td>\n",
       "      <td>34</td>\n",
       "    </tr>\n",
       "  </tbody>\n",
       "</table>\n",
       "</div>"
      ],
      "text/plain": [
       "   GexfID                       Title  IMDB_id  ReleaseDate  ... ConnectedComponents Density Edges Characters\n",
       "0       1  10 Things I Hate About You   147800         1999  ...               3,000   0,233   225         25\n",
       "1       2                          12   488478         2007  ...               6,000   0,077   102         42\n",
       "2       3          Twelve and Holding   417385         2005  ...               2,000   0,140   139         26\n",
       "3       5                   127 Hours  1542344         2010  ...               4,000   0,152    33         11\n",
       "4       6  1492: Conquest of Paradise   103594         1992  ...               1,000   0,153   164         34\n",
       "\n",
       "[5 rows x 14 columns]"
      ]
     },
     "execution_count": 2,
     "metadata": {},
     "output_type": "execute_result"
    }
   ],
   "source": [
    "metadata_df = pd.read_csv(\"data/network_metadata.tab\", sep=\"\\t\")\n",
    "metadata_df.loc[:, \"IMDB_id\"] = metadata_df[\"IMDB_id\"].str[2:].astype('int')\n",
    "# metadata_df.head()"
   ]
  },
  {
   "cell_type": "code",
   "execution_count": 3,
   "metadata": {},
   "outputs": [],
   "source": [
    "imdb_data_df = pd.read_json(\"data/gexf_imdb_metadata.json\", orient='index')"
   ]
  },
  {
   "cell_type": "code",
   "execution_count": 4,
   "metadata": {},
   "outputs": [
    {
     "name": "stderr",
     "output_type": "stream",
     "text": [
      "C:\\Users\\Robin McCann\\AppData\\Roaming\\Python\\Python37\\site-packages\\ipykernel_launcher.py:4: SettingWithCopyWarning: \n",
      "A value is trying to be set on a copy of a slice from a DataFrame\n",
      "\n",
      "See the caveats in the documentation: https://pandas.pydata.org/pandas-docs/stable/user_guide/indexing.html#returning-a-view-versus-a-copy\n",
      "  after removing the cwd from sys.path.\n"
     ]
    }
   ],
   "source": [
    "df = pd.merge(metadata_df, imdb_data_df, left_on=\"IMDB_id\", right_on=\"movie_id\")\n",
    "df.loc[:,'directors-writers'] = df.loc[:,'directors'] + df.loc[:,'writers']\n",
    "for i in range(len(df)):\n",
    "    df.loc[:,'directors-writers'][i] = list(set(df.loc[:,'directors-writers'][i]))"
   ]
  },
  {
   "cell_type": "code",
   "execution_count": 41,
   "metadata": {},
   "outputs": [],
   "source": [
    "# Load Movies Graph and relabel nodes\n",
    "Movies_Graph = nx.read_adjlist(\"data/movies_graph.adjlist\")\n",
    "mapping = {}\n",
    "for node in Movies_Graph:\n",
    "    mapping[node] = str(node).replace(\"_\", \" \")\n",
    "\n",
    "\n",
    "Movies_Graph=nx.relabel_nodes(Movies_Graph, mapping)"
   ]
  },
  {
   "cell_type": "code",
   "execution_count": 42,
   "metadata": {},
   "outputs": [],
   "source": [
    "# Load Writers Graph and relabel nodes\n",
    "Writers_Graph = nx.read_adjlist(\"data/writers_graph.adjlist\")\n",
    "mapping = {}\n",
    "for node in Writers_Graph:\n",
    "    mapping[node] = str(node).replace(\"_\", \" \")\n",
    "\n",
    "\n",
    "Writers_Graph=nx.relabel_nodes(Writers_Graph, mapping)"
   ]
  },
  {
   "cell_type": "code",
   "execution_count": 26,
   "metadata": {},
   "outputs": [
    {
     "data": {
      "text/plain": [
       "'\\nfor i in range(20):\\n    print(f\"{all_writers_sorted[i]}, degree: {Writers_Graph.degree(all_writers_sorted[i])}\")\\n'"
      ]
     },
     "execution_count": 26,
     "metadata": {},
     "output_type": "execute_result"
    }
   ],
   "source": [
    "# Writers ordered by most connections\n",
    "all_writers = list(Writers_Graph.nodes())\n",
    "all_writers_sorted = sorted(all_writers, key=lambda x: Writers_Graph.degree(x), reverse=True)\n",
    "'''\n",
    "for i in range(20):\n",
    "    print(f\"{all_writers_sorted[i]}, degree: {Writers_Graph.degree(all_writers_sorted[i])}\")\n",
    "'''"
   ]
  },
  {
   "cell_type": "code",
   "execution_count": 25,
   "metadata": {},
   "outputs": [
    {
     "data": {
      "text/plain": [
       "'\\nfor i in range(20):\\n    print(f\"{all_movies_sorted[i]}, degree: {Movies_Graph.degree(all_movies_sorted[i])}\")\\n'"
      ]
     },
     "execution_count": 25,
     "metadata": {},
     "output_type": "execute_result"
    }
   ],
   "source": [
    "# Movies ordered by most connections\n",
    "all_movies = list(Movies_Graph.nodes())\n",
    "all_movies_sorted = sorted(all_movies, key=lambda x: Movies_Graph.degree(x), reverse=True)                  \n",
    "'''\n",
    "for i in range(20):\n",
    "    print(f\"{all_movies_sorted[i]}, degree: {Movies_Graph.degree(all_movies_sorted[i])}\")\n",
    "'''"
   ]
  },
  {
   "cell_type": "code",
   "execution_count": 68,
   "metadata": {},
   "outputs": [
    {
     "data": {
      "text/plain": [
       "273"
      ]
     },
     "execution_count": 68,
     "metadata": {},
     "output_type": "execute_result"
    }
   ],
   "source": [
    "# Find communities among movies\n",
    "movie_communities = sorted(list(nx.algorithms.community.modularity_max.greedy_modularity_communities(Movies_Graph)),\n",
    "                          key=lambda x: len(x), reverse=True)\n",
    "len(movie_communities)"
   ]
  },
  {
   "cell_type": "code",
   "execution_count": 59,
   "metadata": {},
   "outputs": [
    {
     "data": {
      "text/plain": [
       "265"
      ]
     },
     "execution_count": 59,
     "metadata": {},
     "output_type": "execute_result"
    }
   ],
   "source": [
    "# Find communities among writers\n",
    "writer_communities = sorted(list(nx.algorithms.community.modularity_max.greedy_modularity_communities(Writers_Graph)), \n",
    "                     key=lambda x: len(x), reverse=True)\n",
    "len(writer_communities)"
   ]
  },
  {
   "cell_type": "code",
   "execution_count": null,
   "metadata": {},
   "outputs": [],
   "source": [
    "# Onion Decomposition"
   ]
  }
 ],
 "metadata": {
  "kernelspec": {
   "display_name": "Python 3",
   "language": "python",
   "name": "python3"
  },
  "language_info": {
   "codemirror_mode": {
    "name": "ipython",
    "version": 3
   },
   "file_extension": ".py",
   "mimetype": "text/x-python",
   "name": "python",
   "nbconvert_exporter": "python",
   "pygments_lexer": "ipython3",
   "version": "3.7.2"
  }
 },
 "nbformat": 4,
 "nbformat_minor": 4
}
