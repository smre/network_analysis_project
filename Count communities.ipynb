{
 "cells": [
  {
   "cell_type": "markdown",
   "metadata": {},
   "source": [
    "# Counting communities"
   ]
  },
  {
   "cell_type": "code",
   "execution_count": 6,
   "metadata": {},
   "outputs": [],
   "source": [
    "import community\n",
    "import networkx as nx\n",
    "from networkx.algorithms.community import greedy_modularity_communities\n",
    "import pandas as pd\n",
    "import numpy as np\n",
    "import matplotlib.pyplot as plt\n",
    "\n",
    "plt.rcParams[\"figure.figsize\"] = (16, 10)"
   ]
  },
  {
   "cell_type": "code",
   "execution_count": 32,
   "metadata": {},
   "outputs": [
    {
     "data": {
      "text/html": [
       "<div>\n",
       "<style scoped>\n",
       "    .dataframe tbody tr th:only-of-type {\n",
       "        vertical-align: middle;\n",
       "    }\n",
       "\n",
       "    .dataframe tbody tr th {\n",
       "        vertical-align: top;\n",
       "    }\n",
       "\n",
       "    .dataframe thead th {\n",
       "        text-align: right;\n",
       "    }\n",
       "</style>\n",
       "<table border=\"1\" class=\"dataframe\">\n",
       "  <thead>\n",
       "    <tr style=\"text-align: right;\">\n",
       "      <th></th>\n",
       "      <th>Title</th>\n",
       "      <th>IMDB_id</th>\n",
       "      <th>ReleaseDate</th>\n",
       "      <th>Slug</th>\n",
       "      <th>WeightedDegree</th>\n",
       "      <th>Modularity</th>\n",
       "      <th>PathLength</th>\n",
       "      <th>Diameter</th>\n",
       "      <th>ClusteringCoefficient</th>\n",
       "      <th>ConnectedComponents</th>\n",
       "      <th>Density</th>\n",
       "      <th>Edges</th>\n",
       "      <th>Characters</th>\n",
       "    </tr>\n",
       "    <tr>\n",
       "      <th>GexfID</th>\n",
       "      <th></th>\n",
       "      <th></th>\n",
       "      <th></th>\n",
       "      <th></th>\n",
       "      <th></th>\n",
       "      <th></th>\n",
       "      <th></th>\n",
       "      <th></th>\n",
       "      <th></th>\n",
       "      <th></th>\n",
       "      <th></th>\n",
       "      <th></th>\n",
       "      <th></th>\n",
       "    </tr>\n",
       "  </thead>\n",
       "  <tbody>\n",
       "    <tr>\n",
       "      <th>1</th>\n",
       "      <td>10 Things I Hate About You</td>\n",
       "      <td>tt0147800</td>\n",
       "      <td>1999</td>\n",
       "      <td>10-Things-I-Hate-About-You</td>\n",
       "      <td>13,040</td>\n",
       "      <td>0,194</td>\n",
       "      <td>1,779</td>\n",
       "      <td>3,000</td>\n",
       "      <td>0,567</td>\n",
       "      <td>3,000</td>\n",
       "      <td>0,233</td>\n",
       "      <td>225</td>\n",
       "      <td>25</td>\n",
       "    </tr>\n",
       "    <tr>\n",
       "      <th>2</th>\n",
       "      <td>12</td>\n",
       "      <td>tt0488478</td>\n",
       "      <td>2007</td>\n",
       "      <td>12</td>\n",
       "      <td>4,227</td>\n",
       "      <td>0,517</td>\n",
       "      <td>2,170</td>\n",
       "      <td>3,000</td>\n",
       "      <td>0,610</td>\n",
       "      <td>6,000</td>\n",
       "      <td>0,077</td>\n",
       "      <td>102</td>\n",
       "      <td>42</td>\n",
       "    </tr>\n",
       "    <tr>\n",
       "      <th>3</th>\n",
       "      <td>Twelve and Holding</td>\n",
       "      <td>tt0417385</td>\n",
       "      <td>2005</td>\n",
       "      <td>Twelve-and-Holding</td>\n",
       "      <td>7,333</td>\n",
       "      <td>0,473</td>\n",
       "      <td>2,449</td>\n",
       "      <td>4,000</td>\n",
       "      <td>0,593</td>\n",
       "      <td>2,000</td>\n",
       "      <td>0,140</td>\n",
       "      <td>139</td>\n",
       "      <td>26</td>\n",
       "    </tr>\n",
       "    <tr>\n",
       "      <th>5</th>\n",
       "      <td>127 Hours</td>\n",
       "      <td>tt1542344</td>\n",
       "      <td>2010</td>\n",
       "      <td>127-Hours</td>\n",
       "      <td>3,833</td>\n",
       "      <td>0,160</td>\n",
       "      <td>1,722</td>\n",
       "      <td>2,000</td>\n",
       "      <td>0,339</td>\n",
       "      <td>4,000</td>\n",
       "      <td>0,152</td>\n",
       "      <td>33</td>\n",
       "      <td>11</td>\n",
       "    </tr>\n",
       "    <tr>\n",
       "      <th>6</th>\n",
       "      <td>1492: Conquest of Paradise</td>\n",
       "      <td>tt0103594</td>\n",
       "      <td>1992</td>\n",
       "      <td>1492:-Conquest-of-Paradise</td>\n",
       "      <td>7,941</td>\n",
       "      <td>0,350</td>\n",
       "      <td>2,043</td>\n",
       "      <td>4,000</td>\n",
       "      <td>0,705</td>\n",
       "      <td>1,000</td>\n",
       "      <td>0,153</td>\n",
       "      <td>164</td>\n",
       "      <td>34</td>\n",
       "    </tr>\n",
       "  </tbody>\n",
       "</table>\n",
       "</div>"
      ],
      "text/plain": [
       "                             Title    IMDB_id  ReleaseDate  \\\n",
       "GexfID                                                       \n",
       "1       10 Things I Hate About You  tt0147800         1999   \n",
       "2                               12  tt0488478         2007   \n",
       "3               Twelve and Holding  tt0417385         2005   \n",
       "5                        127 Hours  tt1542344         2010   \n",
       "6       1492: Conquest of Paradise  tt0103594         1992   \n",
       "\n",
       "                              Slug WeightedDegree Modularity PathLength  \\\n",
       "GexfID                                                                    \n",
       "1       10-Things-I-Hate-About-You         13,040      0,194      1,779   \n",
       "2                               12          4,227      0,517      2,170   \n",
       "3               Twelve-and-Holding          7,333      0,473      2,449   \n",
       "5                        127-Hours          3,833      0,160      1,722   \n",
       "6       1492:-Conquest-of-Paradise          7,941      0,350      2,043   \n",
       "\n",
       "       Diameter ClusteringCoefficient ConnectedComponents Density  Edges  \\\n",
       "GexfID                                                                     \n",
       "1         3,000                 0,567               3,000   0,233    225   \n",
       "2         3,000                 0,610               6,000   0,077    102   \n",
       "3         4,000                 0,593               2,000   0,140    139   \n",
       "5         2,000                 0,339               4,000   0,152     33   \n",
       "6         4,000                 0,705               1,000   0,153    164   \n",
       "\n",
       "        Characters  \n",
       "GexfID              \n",
       "1               25  \n",
       "2               42  \n",
       "3               26  \n",
       "5               11  \n",
       "6               34  "
      ]
     },
     "execution_count": 32,
     "metadata": {},
     "output_type": "execute_result"
    }
   ],
   "source": [
    "df = pd.read_csv(\"data/network_metadata.tab\", sep=\"\\t\", index_col=[\"GexfID\"])\n",
    "df.head()"
   ]
  },
  {
   "cell_type": "code",
   "execution_count": 61,
   "metadata": {},
   "outputs": [
    {
     "data": {
      "text/html": [
       "<div>\n",
       "<style scoped>\n",
       "    .dataframe tbody tr th:only-of-type {\n",
       "        vertical-align: middle;\n",
       "    }\n",
       "\n",
       "    .dataframe tbody tr th {\n",
       "        vertical-align: top;\n",
       "    }\n",
       "\n",
       "    .dataframe thead th {\n",
       "        text-align: right;\n",
       "    }\n",
       "</style>\n",
       "<table border=\"1\" class=\"dataframe\">\n",
       "  <thead>\n",
       "    <tr style=\"text-align: right;\">\n",
       "      <th></th>\n",
       "      <th>GexfID</th>\n",
       "      <th>Louvain</th>\n",
       "      <th>Clauset-Newman-Moore</th>\n",
       "    </tr>\n",
       "  </thead>\n",
       "  <tbody>\n",
       "    <tr>\n",
       "      <th>1</th>\n",
       "      <td>1</td>\n",
       "      <td>3</td>\n",
       "      <td>1</td>\n",
       "    </tr>\n",
       "    <tr>\n",
       "      <th>2</th>\n",
       "      <td>2</td>\n",
       "      <td>4</td>\n",
       "      <td>4</td>\n",
       "    </tr>\n",
       "    <tr>\n",
       "      <th>3</th>\n",
       "      <td>3</td>\n",
       "      <td>3</td>\n",
       "      <td>3</td>\n",
       "    </tr>\n",
       "    <tr>\n",
       "      <th>5</th>\n",
       "      <td>5</td>\n",
       "      <td>3</td>\n",
       "      <td>1</td>\n",
       "    </tr>\n",
       "    <tr>\n",
       "      <th>6</th>\n",
       "      <td>6</td>\n",
       "      <td>4</td>\n",
       "      <td>3</td>\n",
       "    </tr>\n",
       "  </tbody>\n",
       "</table>\n",
       "</div>"
      ],
      "text/plain": [
       "  GexfID Louvain Clauset-Newman-Moore\n",
       "1      1       3                    1\n",
       "2      2       4                    4\n",
       "3      3       3                    3\n",
       "5      5       3                    1\n",
       "6      6       4                    3"
      ]
     },
     "execution_count": 61,
     "metadata": {},
     "output_type": "execute_result"
    }
   ],
   "source": [
    "communities = pd.DataFrame(columns = ['GexfID', 'Louvain', 'Clauset-Newman-Moore'])\n",
    "communities.set_index('GexfID')\n",
    "\n",
    "for i, row in df.iterrows():\n",
    "    film = nx.read_gexf(\"data/gexf/{}.gexf\".format(i), relabel=True)\n",
    "    #film = nx.read_gexf(\"data/gexf/302.gexf\", relabel=True)\n",
    "\n",
    "    # Louvain\n",
    "    part = community.best_partition(film)\n",
    "    values = [part.get(node) for node in film.nodes()]\n",
    "    louvain_communities = len(set(values))\n",
    "\n",
    "    # CNM\n",
    "    cnm = len(list(greedy_modularity_communities(film)))\n",
    "\n",
    "    communities.loc[i] = [i, louvain_communities, cnm]\n",
    "    \n",
    "    \n",
    "communities.head()"
   ]
  },
  {
   "cell_type": "code",
   "execution_count": 62,
   "metadata": {},
   "outputs": [
    {
     "data": {
      "text/plain": [
       "GexfID                  455.738680\n",
       "Louvain                   4.305304\n",
       "Clauset-Newman-Moore      2.382924\n",
       "dtype: float64"
      ]
     },
     "execution_count": 62,
     "metadata": {},
     "output_type": "execute_result"
    }
   ],
   "source": [
    "communities.mean(axis = 0) "
   ]
  },
  {
   "cell_type": "code",
   "execution_count": 63,
   "metadata": {},
   "outputs": [
    {
     "data": {
      "text/plain": [
       "GexfID                  914.0\n",
       "Louvain                  13.0\n",
       "Clauset-Newman-Moore      9.0\n",
       "dtype: float64"
      ]
     },
     "execution_count": 63,
     "metadata": {},
     "output_type": "execute_result"
    }
   ],
   "source": [
    "communities.max()"
   ]
  },
  {
   "cell_type": "code",
   "execution_count": 32,
   "metadata": {},
   "outputs": [
    {
     "ename": "TypeError",
     "evalue": "to_csv() got an unexpected keyword argument 'index_col'",
     "output_type": "error",
     "traceback": [
      "\u001b[0;31m---------------------------------------------------------------------------\u001b[0m",
      "\u001b[0;31mTypeError\u001b[0m                                 Traceback (most recent call last)",
      "\u001b[0;32m<ipython-input-32-50e1ce16009c>\u001b[0m in \u001b[0;36m<module>\u001b[0;34m\u001b[0m\n\u001b[0;32m----> 1\u001b[0;31m \u001b[0mcommunities\u001b[0m\u001b[0;34m.\u001b[0m\u001b[0mto_csv\u001b[0m\u001b[0;34m(\u001b[0m\u001b[0;34m\"communities.csv\"\u001b[0m\u001b[0;34m,\u001b[0m \u001b[0mindex_col\u001b[0m\u001b[0;34m=\u001b[0m\u001b[0;36m0\u001b[0m\u001b[0;34m)\u001b[0m\u001b[0;34m\u001b[0m\u001b[0;34m\u001b[0m\u001b[0m\n\u001b[0m",
      "\u001b[0;31mTypeError\u001b[0m: to_csv() got an unexpected keyword argument 'index_col'"
     ]
    }
   ],
   "source": [
    "communities.to_csv(\"communities_haaa.csv\")"
   ]
  },
  {
   "cell_type": "code",
   "execution_count": null,
   "metadata": {},
   "outputs": [],
   "source": []
  }
 ],
 "metadata": {
  "kernelspec": {
   "display_name": "Python 3",
   "language": "python",
   "name": "python3"
  },
  "language_info": {
   "codemirror_mode": {
    "name": "ipython",
    "version": 3
   },
   "file_extension": ".py",
   "mimetype": "text/x-python",
   "name": "python",
   "nbconvert_exporter": "python",
   "pygments_lexer": "ipython3",
   "version": "3.7.6"
  }
 },
 "nbformat": 4,
 "nbformat_minor": 4
}
