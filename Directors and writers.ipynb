{
 "cells": [
  {
   "cell_type": "code",
   "execution_count": 1,
   "metadata": {
    "scrolled": true
   },
   "outputs": [],
   "source": [
    "import networkx as nx\n",
    "import pandas as pd\n",
    "import numpy as np\n",
    "import matplotlib.pyplot as plt\n",
    "import copy\n",
    "from statistics import mean\n",
    "import json\n",
    "import pickle"
   ]
  },
  {
   "cell_type": "code",
   "execution_count": 2,
   "metadata": {},
   "outputs": [],
   "source": [
    "metadata_df = pd.read_csv(\"data/network_metadata.tab\", sep=\"\\t\")\n",
    "metadata_df.loc[:, \"IMDB_id\"] = metadata_df[\"IMDB_id\"].str[2:].astype('int')\n",
    "# metadata_df.head()"
   ]
  },
  {
   "cell_type": "code",
   "execution_count": 3,
   "metadata": {},
   "outputs": [],
   "source": [
    "imdb_data_df = pd.read_json(\"data/gexf_imdb_metadata.json\", orient='index')\n",
    "# imdb_data_df"
   ]
  },
  {
   "cell_type": "code",
   "execution_count": 4,
   "metadata": {
    "scrolled": true
   },
   "outputs": [
    {
     "name": "stderr",
     "output_type": "stream",
     "text": [
      "C:\\Users\\Robin McCann\\AppData\\Roaming\\Python\\Python37\\site-packages\\ipykernel_launcher.py:4: SettingWithCopyWarning: \n",
      "A value is trying to be set on a copy of a slice from a DataFrame\n",
      "\n",
      "See the caveats in the documentation: https://pandas.pydata.org/pandas-docs/stable/user_guide/indexing.html#returning-a-view-versus-a-copy\n",
      "  after removing the cwd from sys.path.\n"
     ]
    }
   ],
   "source": [
    "df = pd.merge(metadata_df, imdb_data_df, left_on=\"IMDB_id\", right_on=\"movie_id\")\n",
    "df.loc[:,'directors-writers'] = df.loc[:,'directors'] + df.loc[:,'writers']\n",
    "for i in range(len(df)):\n",
    "    df.loc[:,'directors-writers'][i] = list(set(df.loc[:,'directors-writers'][i]))\n",
    "# df"
   ]
  },
  {
   "cell_type": "code",
   "execution_count": 5,
   "metadata": {},
   "outputs": [],
   "source": [
    "# A graph where nodes are movie titles and are conneted if they share a director or a writer.\n",
    "Movies_Graph = nx.Graph()\n",
    "titles = df.loc[:,'Title']\n",
    "for title in titles:\n",
    "    Movies_Graph.add_node(title)\n",
    "\n",
    "    \n",
    "# Add node if two movies share a director or a writer\n",
    "# Edge weight = number of directors/writers in common \n",
    "for i in range(len(df)):\n",
    "    for j in range(i+1, len(df)):\n",
    "        title_i = titles[i]\n",
    "        title_j = titles[j]\n",
    "        dirwri_i = df.loc[i,'directors-writers']\n",
    "        dirwri_j = df.loc[j,'directors-writers']\n",
    "        intersection = set.intersection(set(dirwri_i), set(dirwri_j))\n",
    "        if intersection:\n",
    "            Movies_Graph.add_edge(title_i, title_j, weight=len(intersection))"
   ]
  },
  {
   "cell_type": "code",
   "execution_count": 52,
   "metadata": {},
   "outputs": [],
   "source": [
    "'''\n",
    "# Map node name to node_name, for saving\n",
    "mapping = {}\n",
    "for node in Movies_Graph:\n",
    "    mapping[node] = str(node).replace(\" \", \"_\")\n",
    "\n",
    "\n",
    "H=nx.relabel_nodes(Movies_Graph, mapping)\n",
    "nx.write_adjlist(H, \"data/movies_graph.adjlist\")\n",
    "'''"
   ]
  },
  {
   "cell_type": "code",
   "execution_count": 53,
   "metadata": {},
   "outputs": [],
   "source": [
    "'''\n",
    "# make subset of G that is ~50 nodes\n",
    "Movies_Graph_subset = copy.deepcopy(Movies_Graph)\n",
    "i=0\n",
    "for node in Movies_Graph:\n",
    "    if Movies_Graph.degree(node) < 12:\n",
    "        Movies_Graph_subset.remove_node(node)\n",
    "\n",
    "# print(len(Movies_Graph))\n",
    "# print(len(Movies_Graph_subset))\n",
    "'''"
   ]
  },
  {
   "cell_type": "code",
   "execution_count": 147,
   "metadata": {},
   "outputs": [],
   "source": [
    "## A graph where nodes are directors or writers and are connected if they have collaborated on a movie\n",
    "\n",
    "# Get all unique directors and writers\n",
    "writer_movies_map = {}\n",
    "Writers_Graph = nx.Graph()\n",
    "Directors_writers_unique = set()\n",
    "for dw_list in df.loc[:,'directors-writers']:\n",
    "    for dw in dw_list:\n",
    "        Directors_writers_unique.add(dw)\n",
    "        \n",
    "# Add all writer nodes and make dictionary for every movie worked on by said writer\n",
    "for dw in Directors_writers_unique:\n",
    "    writer_movies_map[dw] = []\n",
    "    Writers_Graph.add_node(dw)\n",
    "    for i in range(len(df)):\n",
    "        if dw in df.loc[i,'directors-writers']:\n",
    "            writer_movies_map.get(dw).append(df.loc[i,'Title'])"
   ]
  },
  {
   "cell_type": "code",
   "execution_count": 163,
   "metadata": {},
   "outputs": [],
   "source": [
    "director_movies_map = {}\n",
    "directors_unique = set()\n",
    "for d_list in df.loc[:,'directors']:\n",
    "    for d in d_list:\n",
    "        directors_unique.add(d)\n",
    "        \n",
    "for d in directors_unique:\n",
    "    director_movies_map[d] = []\n",
    "    for i in range(len(df)):\n",
    "        if d in df.loc[i,'directors']:\n",
    "            director_movies_map.get(d).append(df.loc[i,'Title'])"
   ]
  },
  {
   "cell_type": "code",
   "execution_count": 55,
   "metadata": {},
   "outputs": [],
   "source": [
    "'''\n",
    "writers = list(writer_movies_map.keys())\n",
    "\n",
    "# Add edges between writers with weight equal to the number of movies they have collaborated on\n",
    "for i in range(len(writers)):\n",
    "    for j in range(i+1, len(writers)):\n",
    "        writer_i = writers[i]\n",
    "        writer_j = writers[j]\n",
    "        movies_i = writer_movies_map[writer_i]\n",
    "        movies_j = writer_movies_map[writer_j]\n",
    "        intersection = set.intersection(set(movies_i), set(movies_j))\n",
    "        if intersection:\n",
    "            Writers_Graph.add_edge(writer_i, writer_j, weight=len(intersection))\n",
    "'''"
   ]
  },
  {
   "cell_type": "code",
   "execution_count": 38,
   "metadata": {},
   "outputs": [],
   "source": [
    "'''\n",
    "# Map node name to node_name, for saving\n",
    "mapping = {}\n",
    "for node in Writers_Graph:\n",
    "    mapping[node] = str(node).replace(\" \", \"_\")\n",
    "\n",
    "\n",
    "H=nx.relabel_nodes(Writers_Graph, mapping)\n",
    "nx.write_adjlist(H, \"data/writers_graph.adjlist\")\n",
    "'''"
   ]
  },
  {
   "cell_type": "code",
   "execution_count": 148,
   "metadata": {
    "scrolled": true
   },
   "outputs": [],
   "source": [
    "# For a given writer, compile some statistics about the movies he/she has made\n",
    "def get_writer_data(writer=\"Steven Spielberg\"):\n",
    "    director = writer\n",
    "    stats = {\n",
    "        \"director\": director,\n",
    "        \"number_of_movies\": 0,\n",
    "        \"number_of_characters\": [],\n",
    "        \"number_of_communities\": [],\n",
    "        \"clustering\": [],\n",
    "        \"modularity\": [],\n",
    "        \"diameter\": [],\n",
    "        \"density\": []\n",
    "    }\n",
    "\n",
    "    movies = director_movies_map[director]\n",
    "    for movie in movies:\n",
    "        for i in range(len(df)):\n",
    "            if df.loc[i,\"Title\"] == movie:\n",
    "                gexf_id = df.loc[i,\"GexfID\"]\n",
    "                index = i\n",
    "                break\n",
    "        G = nx.read_gexf(f\"data/gexf/{gexf_id}.gexf\", relabel=True)\n",
    "        # find out stuff about the graph here and save it\n",
    "        stats[\"number_of_characters\"].append(df.loc[index, \"Characters\"])\n",
    "        stats[\"number_of_communities\"].append(len(list(nx.algorithms.community.modularity_max.greedy_modularity_communities(G))))\n",
    "        stats[\"clustering\"].append(float(df.loc[index, \"ClusteringCoefficient\"].replace(',','.')))\n",
    "        stats[\"modularity\"].append(float(df.loc[index, \"Modularity\"].replace(',','.')))\n",
    "        stats[\"diameter\"].append(float(df.loc[index, \"Diameter\"].replace(',','.')))\n",
    "        stats[\"density\"].append(float(df.loc[index, \"Density\"].replace(',','.')))\n",
    "        stats[\"number_of_movies\"] =stats[\"number_of_movies\"] + 1\n",
    "    \n",
    "    return stats\n"
   ]
  },
  {
   "cell_type": "code",
   "execution_count": 164,
   "metadata": {},
   "outputs": [],
   "source": [
    "All_Directors = {}\n",
    "for director in director_movies_map.keys():\n",
    "    All_Directors[director]=get_writer_data(director)\n",
    "with open('data/director_summary.p', 'wb') as fp:\n",
    "    pickle.dump(All_Directors, fp, protocol=pickle.HIGHEST_PROTOCOL)"
   ]
  }
 ],
 "metadata": {
  "kernelspec": {
   "display_name": "Python 3",
   "language": "python",
   "name": "python3"
  },
  "language_info": {
   "codemirror_mode": {
    "name": "ipython",
    "version": 3
   },
   "file_extension": ".py",
   "mimetype": "text/x-python",
   "name": "python",
   "nbconvert_exporter": "python",
   "pygments_lexer": "ipython3",
   "version": "3.7.2"
  }
 },
 "nbformat": 4,
 "nbformat_minor": 4
}
