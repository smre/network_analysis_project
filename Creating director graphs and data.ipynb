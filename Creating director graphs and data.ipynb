{
 "cells": [
  {
   "cell_type": "code",
   "execution_count": 1,
   "metadata": {},
   "outputs": [],
   "source": [
    "import networkx as nx\n",
    "import pandas as pd\n",
    "import numpy as np\n",
    "import matplotlib.pyplot as plt\n",
    "import copy\n",
    "from statistics import mean\n",
    "import json\n",
    "import pickle"
   ]
  },
  {
   "cell_type": "code",
   "execution_count": 25,
   "metadata": {},
   "outputs": [],
   "source": [
    "# Load Movies Graph and relabel nodes\n",
    "Movies_Graph = nx.read_adjlist(\"data/movies_graph.adjlist\")\n",
    "mapping = {}\n",
    "for node in Movies_Graph:\n",
    "    mapping[node] = str(node).replace(\"_\", \" \")\n",
    "\n",
    "\n",
    "Movies_Graph=nx.relabel_nodes(Movies_Graph, mapping)\n",
    "\n",
    "# Load Writers Graph and relabel nodes\n",
    "Writers_Graph = nx.read_adjlist(\"data/writers_graph.adjlist\")\n",
    "mapping = {}\n",
    "for node in Writers_Graph:\n",
    "    mapping[node] = str(node).replace(\"_\", \" \")\n",
    "\n",
    "\n",
    "Writers_Graph=nx.relabel_nodes(Writers_Graph, mapping)"
   ]
  },
  {
   "cell_type": "code",
   "execution_count": 49,
   "metadata": {
    "scrolled": true
   },
   "outputs": [
    {
     "name": "stdout",
     "output_type": "stream",
     "text": [
      "Top 10 Writers by number of connections via movies:\n",
      "\tSteven Spielberg, connections: 22\n",
      "\tRidley Scott, connections: 20\n",
      "\tRonald Shusett, connections: 19\n",
      "\tDavid Koepp, connections: 19\n",
      "\tDan O'Bannon, connections: 17\n",
      "\tMichael Mann, connections: 16\n",
      "\tBrian De Palma, connections: 16\n",
      "\tJames Cameron, connections: 15\n",
      "\tMartin Scorsese, connections: 15\n",
      "\tGeorge Lucas, connections: 15\n",
      "\n",
      "Top 10 Movies by number of connections via writers:\n",
      "\tIndiana Jones and the Kingdom of the Crystal Skull, connections: 22\n",
      "\tMission: Impossible, connections: 20\n",
      "\tRaiders of the Lost Ark, connections: 20\n",
      "\tJurassic Park, connections: 18\n",
      "\tThe Lost World: Jurassic Park, connections: 18\n",
      "\tWar of the Worlds, connections: 18\n",
      "\tIndiana Jones and the Last Crusade, connections: 17\n",
      "\tAliens, connections: 16\n",
      "\tMinority Report, connections: 16\n",
      "\tIndiana Jones and the Temple of Doom, connections: 16\n"
     ]
    }
   ],
   "source": [
    "all_writers = list(Writers_Graph.nodes())\n",
    "all_writers_sorted = sorted(all_writers, key=lambda x: Writers_Graph.degree(x), reverse=True)\n",
    "\n",
    "all_movies = list(Movies_Graph.nodes())\n",
    "all_movies_sorted = sorted(all_movies, key=lambda x: Movies_Graph.degree(x), reverse=True)    \n",
    "\n",
    "# Writers ordered by most connections\n",
    "print(\"Top 10 Writers by number of connections via movies:\")\n",
    "for i in range(10):\n",
    "    print(f\"\\t{all_writers_sorted[i]}, connections: {Writers_Graph.degree(all_writers_sorted[i])}\")\n",
    "\n",
    "print(\"\")\n",
    "    \n",
    "# Movies ordered by most connections\n",
    "print(\"Top 10 Movies by number of connections via writers:\")\n",
    "for i in range(10):\n",
    "    print(f\"\\t{all_movies_sorted[i]}, connections: {Movies_Graph.degree(all_movies_sorted[i])}\") "
   ]
  },
  {
   "cell_type": "code",
   "execution_count": 84,
   "metadata": {},
   "outputs": [],
   "source": [
    "with open('data/director_summary.p', 'rb') as fp:\n",
    "    director_data = pickle.load(fp)"
   ]
  },
  {
   "cell_type": "code",
   "execution_count": 85,
   "metadata": {},
   "outputs": [],
   "source": [
    "def summarize_data(stats=None):\n",
    "    print(f\"Director: {stats['director']}\")\n",
    "    print(f\"Movies total: {stats['number_of_movies']}\")\n",
    "    print(f\"Average number of characters: {mean(stats['number_of_characters'])}\")\n",
    "    print(f\"Average number of communities: {mean(stats['number_of_communities'])}\")\n",
    "    print(f\"Average clustering: {mean(stats['clustering'])}\")\n",
    "    print(f\"Average modularity: {mean(stats['modularity'])}\")\n",
    "    print(f\"Average diameter: {mean(stats['diameter'])}\")\n",
    "    print(f\"Average density: {mean(stats['density'])}\")"
   ]
  },
  {
   "cell_type": "code",
   "execution_count": 92,
   "metadata": {},
   "outputs": [],
   "source": [
    "def summarize_director(director=\"Quentin Tarantino\"):\n",
    "    summarize_data(director_data[director])"
   ]
  },
  {
   "cell_type": "code",
   "execution_count": 89,
   "metadata": {},
   "outputs": [],
   "source": [
    "# sorted(director_data, key=lambda x: mean(list(director_data[x][\"number_of_communities\"])), reverse=True)"
   ]
  },
  {
   "cell_type": "code",
   "execution_count": 93,
   "metadata": {},
   "outputs": [
    {
     "name": "stdout",
     "output_type": "stream",
     "text": [
      "Director: David Lynch\n",
      "Movies total: 6\n",
      "Average number of characters: 43\n",
      "Average number of communities: 2.5\n",
      "Average clustering: 0.6263333333333333\n",
      "Average modularity: 0.4215\n",
      "Average diameter: 4.333333333333333\n",
      "Average density: 0.10566666666666667\n",
      "\n",
      "Director: Christopher Nolan\n",
      "Movies total: 2\n",
      "Average number of characters: 21\n",
      "Average number of communities: 2\n",
      "Average clustering: 0.5965\n",
      "Average modularity: 0.2595\n",
      "Average diameter: 3.0\n",
      "Average density: 0.17049999999999998\n"
     ]
    }
   ],
   "source": [
    "# High Diameter vs low Diameter\n",
    "summarize_director(\"David Lynch\")\n",
    "print(\"\")\n",
    "summarize_director(\"Christopher Nolan\")"
   ]
  },
  {
   "cell_type": "code",
   "execution_count": 94,
   "metadata": {},
   "outputs": [
    {
     "name": "stdout",
     "output_type": "stream",
     "text": [
      "Director: Quentin Tarantino\n",
      "Movies total: 5\n",
      "Average number of characters: 29\n",
      "Average number of communities: 3.2\n",
      "Average clustering: 0.7674\n",
      "Average modularity: 0.3732\n",
      "Average diameter: 3.8\n",
      "Average density: 0.1714\n",
      "\n",
      "Director: Ridley Scott\n",
      "Movies total: 9\n",
      "Average number of characters: 33\n",
      "Average number of communities: 2.111111111111111\n",
      "Average clustering: 0.6277777777777778\n",
      "Average modularity: 0.3391111111111111\n",
      "Average diameter: 3.888888888888889\n",
      "Average density: 0.16444444444444445\n"
     ]
    }
   ],
   "source": [
    "# High number of comunities vs Low number of communities\n",
    "summarize_director(\"Quentin Tarantino\")\n",
    "print(\"\")\n",
    "summarize_director(\"Ridley Scott\")"
   ]
  },
  {
   "cell_type": "code",
   "execution_count": 95,
   "metadata": {},
   "outputs": [
    {
     "name": "stdout",
     "output_type": "stream",
     "text": [
      "Director: George Lucas\n",
      "Movies total: 2\n",
      "Average number of characters: 47\n",
      "Average number of communities: 2.5\n",
      "Average clustering: 0.6745\n",
      "Average modularity: 0.363\n",
      "Average diameter: 3.5\n",
      "Average density: 0.1265\n",
      "\n",
      "Director: Christopher Nolan\n",
      "Movies total: 2\n",
      "Average number of characters: 21\n",
      "Average number of communities: 2\n",
      "Average clustering: 0.5965\n",
      "Average modularity: 0.2595\n",
      "Average diameter: 3.0\n",
      "Average density: 0.17049999999999998\n"
     ]
    }
   ],
   "source": [
    "# High number of characters vs Low number of characters\n",
    "summarize_director(\"George Lucas\")\n",
    "print(\"\")\n",
    "summarize_director(\"Christopher Nolan\")"
   ]
  },
  {
   "cell_type": "code",
   "execution_count": 96,
   "metadata": {},
   "outputs": [
    {
     "name": "stdout",
     "output_type": "stream",
     "text": [
      "Director: Quentin Tarantino\n",
      "Movies total: 5\n",
      "Average number of characters: 29\n",
      "Average number of communities: 3.2\n",
      "Average clustering: 0.7674\n",
      "Average modularity: 0.3732\n",
      "Average diameter: 3.8\n",
      "Average density: 0.1714\n",
      "\n",
      "Director: David Cronenberg\n",
      "Movies total: 3\n",
      "Average number of characters: 29\n",
      "Average number of communities: 2.6666666666666665\n",
      "Average clustering: 0.5666666666666667\n",
      "Average modularity: 0.35033333333333333\n",
      "Average diameter: 4.333333333333333\n",
      "Average density: 0.15233333333333332\n"
     ]
    }
   ],
   "source": [
    "# High clustering vs Low clustering\n",
    "summarize_director(\"Quentin Tarantino\")\n",
    "print(\"\")\n",
    "summarize_director(\"David Cronenberg\")"
   ]
  },
  {
   "cell_type": "code",
   "execution_count": null,
   "metadata": {},
   "outputs": [],
   "source": []
  }
 ],
 "metadata": {
  "kernelspec": {
   "display_name": "Python 3",
   "language": "python",
   "name": "python3"
  },
  "language_info": {
   "codemirror_mode": {
    "name": "ipython",
    "version": 3
   },
   "file_extension": ".py",
   "mimetype": "text/x-python",
   "name": "python",
   "nbconvert_exporter": "python",
   "pygments_lexer": "ipython3",
   "version": "3.7.2"
  }
 },
 "nbformat": 4,
 "nbformat_minor": 4
}
